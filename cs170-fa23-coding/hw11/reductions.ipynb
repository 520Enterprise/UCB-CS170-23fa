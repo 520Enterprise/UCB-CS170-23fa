{
 "cells": [
  {
   "cell_type": "markdown",
   "metadata": {},
   "source": [
    "# Reductions\n",
    "In class, we've seen that we can *reduce* one problem to another, by converting an instance of problem $A$ to an instance of problem $B$. We've seen that this allows us to prove that $B$ is at least as hard as $A$, but this also allows us to use an efficient black-box solver for problem $B$ to solve problem $A$. \n",
    "\n",
    "Namely, there exist many solver packages for Integer Linear Programming (CPLEX, Gurobi) and SAT (Glucose, Maplesat, Z3) which have been highly optimized over the course of several decades. Although these solvers take exponential time since ILP and SAT are NP-complete, good solver packages use advanced algorithms and are highly optimized, meaning they are very fast on reasonably-sized inputs. Rather than implement a solver from scratch, it may be more efficient to reduce a problem to integer LP or SAT in polynomial time and then call an existing solver library. \n",
    "\n",
    "It's common practice in operations research to frame problems such as airline scheduling or supply chain management as integer LPs and solve them using efficient commercial solvers.\n",
    "\n",
    "> **Fun fact:** One popular commercial ILP solver, Gurobi, boasts that the NFL uses it to schedule football games!\n",
    "\n",
    "In this notebook, we'll see how to solve the optimization variant of Set Cover by reducing it to integer LP and calling a black-box ILP solver. "
   ]
  },
  {
   "cell_type": "markdown",
   "metadata": {},
   "source": [
    "##### If you're using Datahub:\n",
    "* Run the cell below **and restart the kernel if needed**\n",
    "\n",
    "##### If you're running locally:\n",
    "* Make sure you've activated the conda environment: `conda activate cs170`\n",
    "* Launch jupyter: `jupyter notebook` or `jupyter lab` \n",
    "* Run the cell below **and restart the kernel if needed**"
   ]
  },
  {
   "cell_type": "code",
   "execution_count": null,
   "metadata": {},
   "outputs": [],
   "source": [
    "# Install dependencies\n",
    "!pip install -r requirements.txt --quiet"
   ]
  },
  {
   "cell_type": "code",
   "execution_count": null,
   "metadata": {},
   "outputs": [],
   "source": [
    "import otter\n",
    "assert (otter.__version__ >= \"4.4.1\"), \"Please reinstall the requirements and restart your kernel.\"\n",
    "\n",
    "grader = otter.Notebook(\"reductions.ipynb\")\n",
    "import itertools\n",
    "import tqdm\n",
    "import time\n",
    "import random\n",
    "import math\n",
    "import pickle\n",
    "import matplotlib.pyplot as plt\n",
    "import pulp\n",
    "\n",
    "from utils import *\n",
    "\n",
    "rng_seed = 0"
   ]
  },
  {
   "cell_type": "code",
   "execution_count": null,
   "metadata": {},
   "outputs": [],
   "source": [
    "# load testing data\n",
    "with open('data.pkl', 'rb') as f:\n",
    "    U_test, S_test, ans_test = pickle.load(f)['testing']"
   ]
  },
  {
   "attachments": {},
   "cell_type": "markdown",
   "metadata": {},
   "source": [
    "## 1) Naive Set Cover\n",
    "We've seen how to approximate Set Cover using a greedy algorithm, this approximation may not always be exact. What if we want an exact answer? Since Set Cover is NP-hard, we can't do much better than brute force unless P=NP. Below, implement a brute force solver for the Set Cover optimization problem. \n",
    "\n",
    "More formally, implement a brute force algorithm for the following:\n",
    "\n",
    "Given a list of sets $S_1, S_2, \\dots, S_m$ where each $S_i$ is a subset of the universe $U$, we want to pick the minimum number of sets from the collection such that their union contains all of $U$. Your answer should be a list of indices, where each index $i$ means that set $S_i$ is part of your set cover. Indices can be returned in any order. If no set cover is possible, return the empty list.\n",
    "\n",
    "For simplicity, you can assume that all elements in $U$ are integers.\n",
    "\n",
    "> **Note:** make sure you don't create a list of all possible subsets of U. Since there are $2^{|U|}$ such sets, this will take too much memory and kill the kernel. Instead, we recommend sticking the template code, which uses generators to avoid space usage issues."
   ]
  },
  {
   "cell_type": "code",
   "execution_count": null,
   "metadata": {
    "tags": []
   },
   "outputs": [],
   "source": [
    "def set_cover_naive(U, S):\n",
    "    '''\n",
    "    Brute-force impmenentation of the Set Cover optimization problem. \n",
    "\n",
    "    args:\n",
    "        - U:List[int] is a list of all of the elements that we wish to cover.\n",
    "        - S:List[Set[int]] is a list of sets; each set S[i] is a Python set of all of the items \n",
    "        that S[i] covers.\n",
    "    returns:\n",
    "        - List[int] depicting the minimal set cover of U. Each element in the \n",
    "            resulting list should be the index of a set in S. If there is no feasible cover, \n",
    "            return an empty list.\n",
    "    '''\n",
    "    all_indices = list(range(len(S)))\n",
    "    U = set(U)\n",
    "\n",
    "    # iterate over all values of k from 1 to |S|\n",
    "    for k in range(1, len(S)+1):\n",
    "        # iterate over all combinations of indices of length k\n",
    "        for inds in itertools.combinations(all_indices, k):\n",
    "            if set.union(*(S[i] for i in inds)) == U:\n",
    "                return list(inds)\n",
    "    return []"
   ]
  },
  {
   "cell_type": "markdown",
   "metadata": {},
   "source": [
    "To help you debug, we've given you some sample test cases and answers to test your implementation.\n",
    "\n",
    "Our tests are not comprehensive: we also encourage you to add your own test cases to test specific edge cases that might cause your code to fail."
   ]
  },
  {
   "cell_type": "code",
   "execution_count": null,
   "metadata": {
    "tags": [
     "otter_ignore"
    ]
   },
   "outputs": [],
   "source": [
    "for U, S, ans in tqdm.tqdm(zip(U_test, S_test, ans_test)):\n",
    "    your_sol = set_cover_naive(U, S)\n",
    "\n",
    "    if len(your_sol) > 0:\n",
    "        assert ans > 0, 'Your solution says a feasible cover exists even though no such cover exists'\n",
    "\n",
    "        your_cover = set([j for i in your_sol for j in S[i]])\n",
    "        assert set(U).issubset(your_cover), 'Your solution does not cover all elements!'\n",
    "    else:\n",
    "        assert ans == 0, 'Your solution says no feasible cover exists even though a solution exists'\n",
    "\n",
    "    assert len(your_sol) == ans, f'Optimal solution has length {ans} but yours has length {len(your_sol)}'"
   ]
  },
  {
   "cell_type": "code",
   "execution_count": null,
   "metadata": {
    "deletable": false,
    "editable": false
   },
   "outputs": [],
   "source": [
    "grader.check(\"q1\")"
   ]
  },
  {
   "attachments": {},
   "cell_type": "markdown",
   "metadata": {},
   "source": [
    "## 2) Black-box ILP Solver (not graded)\n",
    "\n",
    "<b> For this part, you don't have to submit anything. If you're already comfortable with mathematical modeling and using PuLP, feel free to skip to Q3.</b>\n",
    "\n",
    "By using a pre-made ILP solver library, much of the hard work is already done for us. We can assume that the solver gives correct results, and that the solver is pretty fast (as far as algorithms for NP-complete problems go).  \n",
    "\n",
    "For this assignment, we'll use PuLP, which is a Python wrapper for various LP and integer LP solvers. In general, we'll treat the solver like a black box -- besides the Simplex algorithm we saw in class, you don't need to know any other LP solver algorithms or understand how PuLP works internally. In this question, we'll walk through the basics of formulating and solving integer LPs with PuLP."
   ]
  },
  {
   "attachments": {},
   "cell_type": "markdown",
   "metadata": {},
   "source": [
    "As an example, let's say we want to solve the following integer LP:\n",
    "$$\\min_x \\quad 3 x_0 + 4 x_1 + 6 x_2$$\n",
    "<center> such that </center>\n",
    "\n",
    "$$x_0 + 2 x_1 \\ge 5$$\n",
    "$$|x_1 - x_2| \\le 2$$\n",
    "$$x_0 + 2x_1 + 3x_2 \\le 7$$\n",
    "$$x_0, x_1, x_2 \\in \\mathbb{N}$$"
   ]
  },
  {
   "attachments": {},
   "cell_type": "markdown",
   "metadata": {},
   "source": [
    "First, we initialize a `pulp.LpProblem`. The constructor takes 2 arguments: \n",
    "1. The name of the problem (can be anything)\n",
    "2. An optimization direction (either `pulp.LpMinimize` or `pulp.LpMaximize`). "
   ]
  },
  {
   "cell_type": "code",
   "execution_count": null,
   "metadata": {},
   "outputs": [],
   "source": [
    "problem = pulp.LpProblem('example_1', pulp.LpMinimize)"
   ]
  },
  {
   "attachments": {},
   "cell_type": "markdown",
   "metadata": {},
   "source": [
    "Next, we define our *optimization variables*. The variable constructor takes in a name parameter, followed by a few keyword arguments. For our purposes, we'll just look at the keyword arguments `lowBound`, which sets a lower bound on the variable, and `cat`, which describes the type of variable (can be either `'Continuous'`, `'Integer'`, or `'Binary'`. Note that using integer or binary variables will make our problem take much longer to solve). \n",
    "\n",
    "Not only does PuLP support defining single variables, but PuLP also supports defining multiple variables at once with the `dicts` method. This takes in an additional parameter `indices`, and returns a dictionary with elements of `indices` as keys and the PuLP variables as the values. `indices` could be any iterable, but here we'll use `range(3)` to make indexing easy. \n",
    "\n",
    "We'll also define an additional slack variable to deal with the absolute value constraint in our problem."
   ]
  },
  {
   "cell_type": "code",
   "execution_count": null,
   "metadata": {},
   "outputs": [],
   "source": [
    "# Optimization variables\n",
    "x = pulp.LpVariable.dicts(name='x', indices=range(3), lowBound=0, cat='Integer') \n",
    "# Slack variable\n",
    "t = pulp.LpVariable(name='t', lowBound=0, cat='Integer')"
   ]
  },
  {
   "attachments": {},
   "cell_type": "markdown",
   "metadata": {},
   "source": [
    "After defining our variables, we must set the *objective function*. This should be an affine function, i.e. involving only a linear combination of the optimization variables plus some constant. To make indexing easier, we can also define a coefficient array and use a list comprehension (or generator expression). \n",
    "\n",
    "Recall that `x` was assigned using the `dicts` constructor, which returns a dictionary where each key-value pair is of the form `(variable_name, variable_object)`. When defining the objective function, we want to work with the variables themselves but don't care about the names, so we'll iterate over just the values of the dictionary."
   ]
  },
  {
   "cell_type": "code",
   "execution_count": null,
   "metadata": {},
   "outputs": [],
   "source": [
    "coeffs = [3, 4, 6]\n",
    "\n",
    "# objectives can be hard-coded or set using a list comprehension\n",
    "problem.setObjective(sum([c_i * x_i for c_i, x_i in zip(coeffs, x.values())]))\n",
    "\n",
    "# this statement is equally valid and functionally equivalent - the square brackets are optional in a sum expression\n",
    "problem.setObjective(sum(c_i * x_i for c_i, x_i in zip(coeffs, x.values())))"
   ]
  },
  {
   "attachments": {},
   "cell_type": "markdown",
   "metadata": {},
   "source": [
    "Finally, we'll define our *constraints*. PuLP supports `<=`, `>=`, and `==` constraints. Notice how we handled the absolute value constraint by using a slack variable. Also note that the nonnegativity constraints were taken care of using `lowBound` when we defined our variables, so we don't need to repeat them here."
   ]
  },
  {
   "cell_type": "code",
   "execution_count": null,
   "metadata": {},
   "outputs": [],
   "source": [
    "problem.addConstraint(x[0] + 2*x[1] >= 5)\n",
    "\n",
    "# handle the absolute value constraint using slack variables\n",
    "problem.addConstraint(t >= x[1] - x[2])\n",
    "problem.addConstraint(t >= -1*(x[1] - x[2]))\n",
    "problem.addConstraint(t <= 2)"
   ]
  },
  {
   "cell_type": "markdown",
   "metadata": {},
   "source": [
    "Just like when we set the objective function, if we are given a list of coefficients, we can quickly generate constraints using Python list comprehensions. Here, we use the `zip` function to iterate over the coefficients and the variables simultaneously.\n",
    "\n",
    "If you want a refresher on `zip` or list comprehensions, consider checking out the following:\n",
    "\n",
    "https://cs61a.org/study-guide/iterators/#generators \n",
    "\n",
    "https://cs61a.org/lab/lab04/#list-comprehensions"
   ]
  },
  {
   "cell_type": "code",
   "execution_count": null,
   "metadata": {},
   "outputs": [],
   "source": [
    "a = [1, 2, 3]\n",
    "\n",
    "# just like before, the following two lines are equivalent and are both valid. \n",
    "problem.addConstraint(sum([a_i * x_i for a_i, x_i in zip(a, x.values())]) <= 7)\n",
    "\n",
    "# again, the square brackets are optional here\n",
    "problem.addConstraint(sum(a_i * x_i for a_i, x_i in zip(a, x.values())) <= 7)"
   ]
  },
  {
   "cell_type": "markdown",
   "metadata": {},
   "source": [
    "We can print the problem to make sure our objective and constraints make sense:"
   ]
  },
  {
   "cell_type": "code",
   "execution_count": null,
   "metadata": {},
   "outputs": [],
   "source": [
    "print(problem)"
   ]
  },
  {
   "attachments": {},
   "cell_type": "markdown",
   "metadata": {},
   "source": [
    "To actually solve or LP, we just call `problem.solve()`. \n",
    "\n",
    "Here, we pass `pulp.PULP_CBC_CMD(msg=0)` into `problem.solve()` to suppress console outputs and avoid cluttering the notebook. This is totally optional and can be removed if you like.\n",
    "\n",
    "After optimizing, we should first check whether the solver found an optimal solution by checking `problem.status`. If `problem.status` is 1, then the solver found an optimal solution. Otherwise, the status will be different if the problem is infeasible, unbounded or if the solver otherwise fails. See the [documentation](https://www.coin-or.org/PuLP/constants.html#pulp.constants.LpStatus) for the full list of status values. \n",
    "\n",
    "If an optimal solution is found, we can get the optimum objective value from `problem.objective.value()` as shown below. The optimum variable values are stored in their respective variable objects.\n",
    "\n",
    "> **Note:** If the solver fails to find an optimal solution (for instance if the problem is infeasible), the solver will not throw an error. Instead, the solver will set `problem.status` to something other than 1 and the objective value and objective variables will be garbage. So make sure to check that `problem.status` is 1 before checking the objective value or accessing the decision variables."
   ]
  },
  {
   "cell_type": "code",
   "execution_count": null,
   "metadata": {},
   "outputs": [],
   "source": [
    "problem.solve(pulp.PULP_CBC_CMD(msg=0))\n",
    "if problem.status == 1:\n",
    "    print(f'Optimal objective value: {problem.objective.value()}')\n",
    "else:\n",
    "    print(\"The solver couldn't find an optimal solution.\")"
   ]
  },
  {
   "cell_type": "markdown",
   "metadata": {},
   "source": [
    "> **Exercise (optional)**: Try adding a new constraint which will make the LP infeasible, and see what happens when you try to solve it by rerunning the cell above."
   ]
  },
  {
   "cell_type": "code",
   "execution_count": null,
   "metadata": {
    "tags": []
   },
   "outputs": [],
   "source": [
    "# add additional constraints here\n",
    "..."
   ]
  },
  {
   "attachments": {},
   "cell_type": "markdown",
   "metadata": {},
   "source": [
    "After solving, the we can use this code to extract the optimum variable values. `problem.variablesDict()` returns a dictionary of all variables which are used in our LP, and for each variable `v`, we can access `v.name` to see the variable's name or call `v.value()` to see its value."
   ]
  },
  {
   "cell_type": "code",
   "execution_count": null,
   "metadata": {},
   "outputs": [],
   "source": [
    "[(v.name, v.value()) for v in problem.variablesDict().values()]"
   ]
  },
  {
   "cell_type": "markdown",
   "metadata": {},
   "source": [
    "we can also use `problem.variables()` to get a list of all variables, and iterate over them to get their names and values.\n",
    "> **Note:** Beware that this may not return variables in the order that you expect! (try changing $x$ to have dimension larger than 10 and see what happens)"
   ]
  },
  {
   "cell_type": "code",
   "execution_count": null,
   "metadata": {},
   "outputs": [],
   "source": [
    "[(v.name, v.value()) for v in problem.variables()]"
   ]
  },
  {
   "cell_type": "markdown",
   "metadata": {},
   "source": [
    "If you have any further questions about PuLP or if you want to see more examples, feel free to consult the [documentation](https://coin-or.github.io/pulp/)."
   ]
  },
  {
   "cell_type": "markdown",
   "metadata": {},
   "source": [
    "## 3) Using the Solver\n",
    "Now it's your turn! Use PuLP to solve the following LP:\n",
    "$$\\max_x \\quad \\sum_{i=1}^5 2^{5-i} x_i$$\n",
    "<center> such that </center>\n",
    "\n",
    "$$2 \\sum_{j=1}^{i} 2^{i-j} x_j \\le 100^{i-1} \\quad \\forall \\, 1 \\le i \\le 5$$\n",
    "$$x_i \\ge 0 \\quad \\forall i$$\n",
    "\n",
    "Then, store your answer for the optimal objective value in the variable `sol`.\n",
    "\n",
    "> **Fun fact:** This particular LP is known as the Klee-Minty problem, and is an example of a problem where Dantzig's Simplex algorithm requires an exponential number of iterations."
   ]
  },
  {
   "cell_type": "code",
   "execution_count": null,
   "metadata": {
    "tags": []
   },
   "outputs": [],
   "source": [
    "problem = pulp.LpProblem('q3', pulp.LpMaximize)\n",
    "\n",
    "# add variables, objective, and constraints here\n",
    "...\n",
    "\n",
    "problem.solve()\n",
    "\n",
    "sol = ..."
   ]
  },
  {
   "cell_type": "code",
   "execution_count": null,
   "metadata": {
    "deletable": false,
    "editable": false
   },
   "outputs": [],
   "source": [
    "grader.check(\"q3\")"
   ]
  },
  {
   "cell_type": "markdown",
   "metadata": {},
   "source": [
    "## 4) Reducing Set Cover to ILP\n",
    "Now that we know how to formulate and solve ILPs, let's complete the reduction. We'll walk through this reduction step-by-step, where we will:\n",
    "1. Construct an instance of ILP based on the problem instance given\n",
    "2. Solve the ILP we just created using PuLP\n",
    "3. Use the solution to the ILP to construct the optimal solution to the Set Cover problem\n",
    "\n",
    "You will create the ILP problem in the function `create_lp` below. For this part, please use at most $m+n$ variables (including any slack variables), and at most $m+n$ constraints, where $n=|U|$ is the number of elements we wish to cover, and $m$ is the number of sets that we have. \n",
    "\n",
    "In `reconstruct_set_cover`, you will use the solution to the ILP you just generated to construct the optimal solution to the Set Cover problem. \n",
    "\n",
    "Finally, `set_cover_reduction` will tie together everything you've just implemented and return the optimal solution to the Set Cover problem.\n",
    "\n",
    "> **Note:** For this problem, you are required to implement both helper functions. Do not modify the function signatures in any way. "
   ]
  },
  {
   "cell_type": "code",
   "execution_count": null,
   "metadata": {
    "tags": []
   },
   "outputs": [],
   "source": [
    "def create_lp(U, S):\n",
    "    '''\n",
    "    Creates a pulp.LpProblem object for the Set Cover optimization problem. \n",
    "\n",
    "        args:\n",
    "        - U:List[int] is a list of all of the elements that we wish to cover.\n",
    "        - S:List[Set[int]] is a list of sets; each set S[i] is a Python set of all of the items \n",
    "        that S[i] covers.\n",
    "    returns:\n",
    "        - pulp.LpProblem object for the Set Cover optimization problem.\n",
    "    '''\n",
    "    problem = pulp.LpProblem('Set_Cover', pulp.LpMinimize)\n",
    "\n",
    "    # set appropriate variables\n",
    "    ...\n",
    "\n",
    "    # set an appropriate objective function\n",
    "    ...\n",
    "\n",
    "    # set appropriate constraints\n",
    "    ...\n",
    "    return problem\n",
    "\n",
    "def reconstruct_set_cover(U, S, problem):\n",
    "    '''\n",
    "    Reconstructs the set cover from the solution to the ILP. \n",
    "    Assume we already called problem.solve(), so you have access to \n",
    "    proble.status, problem.objective.value(), and the values of any decision variables.\n",
    "\n",
    "    args:\n",
    "        - U:List[int] is a list of all of the elements that we wish to cover.\n",
    "        - S:List[Set[int]] is a list of sets; each set S[i] is a Python set of all of the items \n",
    "        that S[i] covers.\n",
    "        - problem:pulp.LpProblem is a pulp.LpProblem object for the Set Cover optimization problem.\n",
    "    returns:\n",
    "        - List[int] depicting the minimal set cover of U. Each element in the \n",
    "            resulting list should be the index of a set in S. If there is no feasible cover, \n",
    "            return an empty list.\n",
    "    '''\n",
    "\n",
    "    ...\n",
    "\n",
    "\n",
    "def set_cover_reduction(U, S):\n",
    "    '''\n",
    "    Impmenentation of the Set Cover optimization problem using reduction to ILP. \n",
    "    You should use the two helper functions you implemented above.\n",
    "\n",
    "    args:\n",
    "        - U:List[int] is a list of all of the elements that we wish to cover.\n",
    "        - S:List[Set[int]] is a list of sets; each set S[i] is a Python set of all of the items \n",
    "        that S[i] covers.\n",
    "    returns:\n",
    "        - List[int] depicting the minimal set cover of U. Each element in the \n",
    "            resulting list should be the index of a set in S. If there is no feasible cover, \n",
    "            return an empty list.\n",
    "    '''\n",
    "    \n",
    "    # Generate the LP formulation using the helper function you just made\n",
    "    problem = ...\n",
    "\n",
    "    # Solve the LP. You can remove pulp.PULP_CBC_CMD(msg=0) if you want to see problem info.\n",
    "    problem.solve(pulp.PULP_CBC_CMD(msg=0))\n",
    "\n",
    "    # reconstruct the set cover solution based on the ILP solution. Again, use the helpers you just made.\n",
    "    sol = ...\n",
    "    return sol"
   ]
  },
  {
   "cell_type": "markdown",
   "metadata": {},
   "source": [
    "Again, we've provided you with some basic validation code. \n",
    "\n",
    "Our tests are not comprehensive: we also encourage you to add your own test cases to test specific edge cases that might cause your code to fail."
   ]
  },
  {
   "cell_type": "code",
   "execution_count": null,
   "metadata": {
    "tags": [
     "otter_ignore"
    ]
   },
   "outputs": [],
   "source": [
    "for U, S, ans in tqdm.tqdm(zip(U_test, S_test, ans_test)):\n",
    "    your_sol = set_cover_reduction(U, S)\n",
    "\n",
    "    if len(your_sol) > 0:\n",
    "        assert ans > 0, 'Your solution says a feasible cover exists even though no such cover exists'\n",
    "\n",
    "        your_cover = set([j for i in your_sol for j in S[i]])\n",
    "        assert set(U).issubset(your_cover), 'Your solution does not cover all elements!'\n",
    "    else:\n",
    "        assert ans == 0, 'Your solution says no feasible cover exists even though a solution exists'\n",
    "\n",
    "    assert len(your_sol) == ans, f'Optimal solution has length {ans} but yours has length {len(your_sol)}'"
   ]
  },
  {
   "cell_type": "code",
   "execution_count": null,
   "metadata": {
    "deletable": false,
    "editable": false
   },
   "outputs": [],
   "source": [
    "grader.check(\"q4\")"
   ]
  },
  {
   "cell_type": "markdown",
   "metadata": {},
   "source": [
    "### Compare runtime of the ILP reduction vs. Brute-force solver\n",
    "After running the q4 tests and looking at the generated graph, hopefully you will see that the naive solver is faster than the ILP reduction for small examples but the ILP reduction is faster for large examples. This highlights some of the tradeoffs between the two approaches: the ILP solver is more optimized for larger examples, but calling the solver incurs additional overhead, making it slower for small cases. On the flip side, the naive solver introduces relatively little additional overhead, but performs poorly on larger problems.\n",
    "\n",
    "For this part, just run the cell and look at the output. You don't have to implement anything, and you don't have to hit any particular efficiency target. "
   ]
  },
  {
   "cell_type": "code",
   "execution_count": null,
   "metadata": {
    "tags": [
     "otter_ignore"
    ]
   },
   "outputs": [],
   "source": [
    "timing_helper(set_cover_reduction, set_cover_naive)"
   ]
  },
  {
   "cell_type": "markdown",
   "metadata": {
    "deletable": false,
    "editable": false
   },
   "source": [
    "## Submission\n",
    "\n",
    "Make sure you have run all cells in your notebook in order before running the cell below, so that all images/graphs appear in the output. The cell below will generate a zip file for you to submit."
   ]
  },
  {
   "cell_type": "code",
   "execution_count": null,
   "metadata": {
    "deletable": false,
    "editable": false
   },
   "outputs": [],
   "source": [
    "grader.export(pdf=False, force_save=True, run_tests=True)"
   ]
  },
  {
   "cell_type": "markdown",
   "metadata": {},
   "source": [
    " "
   ]
  }
 ],
 "metadata": {
  "kernelspec": {
   "display_name": "Python 3 (ipykernel)",
   "language": "python",
   "name": "python3"
  },
  "language_info": {
   "codemirror_mode": {
    "name": "ipython",
    "version": 3
   },
   "file_extension": ".py",
   "mimetype": "text/x-python",
   "name": "python",
   "nbconvert_exporter": "python",
   "pygments_lexer": "ipython3",
   "version": "3.8.18"
  },
  "otter": {
   "OK_FORMAT": false,
   "assignment_name": "reductions",
   "tests": {
    "q1": "from otter.test_files import test_case\n\nOK_FORMAT = False\n\nname = \"q1\"\npoints = 1.0\n\n@test_case(points=None, hidden=False)\ndef test_q1(set_cover_naive, pickle, tqdm, random, rng_seed):\n    def check_correctness(solver_fn, U, S, ans):\n        student_ans = solver_fn(U, S)\n\n        # input validation: check that student sol gives a list with valid elements\n        assert student_ans is not None, 'Your solution should return a list of sets from S, or an empty list'\n        assert type(student_ans) in [list, tuple], 'Your solution should return a list of sets from S, or an empty list'\n        assert len(student_ans) == 0 or (min(student_ans) >= 0 and max(student_ans) < len(S)), \\\n            'All items in your solution should be valid indices of S'\n        \n        # check feasibility\n        if len(student_ans) > 0:\n            assert ans > 0, 'Your solution says a feasible cover exists even though no such cover exists'\n\n            student_cover = set.union(*[S[i] for i in student_ans])\n            assert set(U).issubset(student_cover), 'Your solution does not cover all elements!'\n        else:\n            assert ans == 0, 'Your solution says no feasible cover exists even though a solution exists'\n\n        # check optimality\n        assert len(student_ans) == ans, f'Your solution uses {len(student_ans)} sets while the optimal set cover uses {ans} sets'\n\n    # load data\n    with open('data.pkl', 'rb') as f:\n        U_all, S_all, ans_all, N_PER_SIZE = pickle.load(f)['q1']\n    # skip some cases to save time\n    n_test = 39*N_PER_SIZE\n\n    # shuffle dataset to make it harder to return an iterator over the solutions\n    problems = list(zip(U_all, S_all, ans_all))[:n_test]\n    random.seed(rng_seed)\n    random.shuffle(problems)\n\n    for U, S, ans in tqdm.tqdm(problems):\n        check_correctness(set_cover_naive, U, S, ans)\n\n",
    "q3": "from otter.test_files import test_case\n\nOK_FORMAT = False\n\nname = \"q3\"\npoints = 2.0\n\n@test_case(points=None, hidden=False)\ndef test_q3(sol, pickle, math):\n    with open('data.pkl', 'rb') as f:\n        staff_sol = pickle.load(f)['q3']\n    assert math.isclose(sol, staff_sol), 'Your solution is not correct, double check your LP formulation.'\n\n",
    "q4": "from otter.test_files import test_case\n\nOK_FORMAT = False\n\nname = \"q4\"\npoints = 4.0\n\n@test_case(points=None, hidden=False)\ndef test_q4(set_cover_naive, create_lp, set_cover_reduction, pulp, pickle, plt, tqdm, random, time, rng_seed):\n    def check_correctness(solver_fn, U, S, ans):\n        student_ans = solver_fn(U, S)\n\n        # input validation: check that student sol gives a list with valid elements\n        assert student_ans is not None, 'Your solution should return a list of sets from S, or an empty list'\n        assert type(student_ans) in [list, tuple], 'Your solution should return a list of sets from S, or an empty list'\n        assert len(student_ans) == 0 or (min(student_ans) >= 0 and max(student_ans) < len(S)), \\\n            'All items in your solution should be valid indices of S'\n        \n        # check feasibility\n        if len(student_ans) > 0:\n            assert ans > 0, 'Your solution says a feasible cover exists even though no such cover exists'\n\n            student_cover = set.union(*[S[i] for i in student_ans])\n            assert set(U).issubset(student_cover), 'Your solution does not cover all elements!'\n        else:\n            assert ans == 0, 'Your solution says no feasible cover exists even though a solution exists'\n\n        # check optimality\n        assert len(student_ans) == ans, f'Your solution uses {len(student_ans)} sets while the optimal set cover uses {ans} sets'\n\n    # check correctness\n    with open('data.pkl', 'rb') as f:\n        U_all, S_all, ans_all, N_PER_SIZE = pickle.load(f)['q1']\n\n    # shuffle dataset to make it harder to return an iterator over the solutions\n    problems = list(zip(U_all, S_all, ans_all))\n    random.seed(rng_seed)\n    random.shuffle(problems)\n\n    for U, S, ans in tqdm.tqdm(problems):\n        # before running ILP solver, check that a reasonable number of variables and constraints were added\n        m = len(U)\n        n = len(S)\n        student_lp = create_lp(U, S)\n        \n        assert len(student_lp.variables()) <= m+n, 'Your LP has too many variables!'\n        assert len(student_lp.constraints) <= 2*(m+n), 'Your LP has too many constraints!'\n\n        # check correctness\n        check_correctness(set_cover_reduction, U, S, ans)\n\n\n\n"
   }
  },
  "vscode": {
   "interpreter": {
    "hash": "4ff930cc6434cf5ccd42f06f22ab8969b52db437e9cd84cd1ea3cec80e9cab32"
   }
  }
 },
 "nbformat": 4,
 "nbformat_minor": 2
}

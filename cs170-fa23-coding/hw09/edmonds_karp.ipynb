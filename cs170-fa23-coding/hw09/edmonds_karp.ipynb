{
 "cells": [
  {
   "cell_type": "markdown",
   "id": "99efabe2",
   "metadata": {},
   "source": [
    "## Network Flow: Edmonds-Karp"
   ]
  },
  {
   "cell_type": "code",
   "execution_count": null,
   "id": "48f1af0e",
   "metadata": {},
   "outputs": [],
   "source": [
    "# Install dependencies\n",
    "!pip install -r requirements.txt --quiet"
   ]
  },
  {
   "cell_type": "code",
   "execution_count": null,
   "id": "c21f87ba",
   "metadata": {
    "tags": []
   },
   "outputs": [],
   "source": [
    "import otter\n",
    "assert (\n",
    "    otter.__version__ >= \"4.4.1\"\n",
    "), \"Please reinstall the requirements and restart your kernel.\"\n",
    "\n",
    "import numpy as np\n",
    "import networkx as nx\n",
    "import queue\n",
    "import typing\n",
    "import tqdm\n",
    "import pickle\n",
    "from collections import deque\n",
    "\n",
    "grader = otter.Notebook(\"edmonds_karp.ipynb\")\n",
    "rng_seed = 42"
   ]
  },
  {
   "cell_type": "code",
   "execution_count": null,
   "id": "b0416944",
   "metadata": {},
   "outputs": [],
   "source": [
    "prng1 = np.random.default_rng(seed=rng_seed)\n",
    "\n",
    "# Load test cases\n",
    "file_path = \"generated_testcases.pkl\"\n",
    "\n",
    "# Load the variables from the pickle file\n",
    "with open(file_path, \"rb\") as file:\n",
    "    loaded_data = pickle.load(file)\n",
    "file.close()\n",
    "inputs, outputs = loaded_data"
   ]
  },
  {
   "cell_type": "code",
   "execution_count": null,
   "id": "9b8b18ba",
   "metadata": {},
   "outputs": [],
   "source": [
    "def rand_graph(size=None):\n",
    "    \"\"\"\n",
    "    args:\n",
    "        size:int = number of vertices in randomly generated graph.\n",
    "    return:\n",
    "        nx.DiGraph that represents the randomly generated directed graph.\n",
    "    \"\"\"\n",
    "    if not size:\n",
    "        g = nx.gnp_random_graph(prng1.integers(16, 64), 0.25, seed=rng_seed, directed=True)\n",
    "    else:\n",
    "        g = nx.gnp_random_graph(size, 0.25, seed=rng_seed, directed=True)\n",
    "        \n",
    "    for u, v in g.edges:\n",
    "        g.edges[u, v][\"capacity\"] = prng1.integers(0, 50)\n",
    "        g.edges[u, v][\"flow\"] = 0\n",
    "    return g"
   ]
  },
  {
   "cell_type": "markdown",
   "id": "7f4f67f7",
   "metadata": {},
   "source": [
    "Here, we will implement one well-defined implementation of Ford–Fulkerson algorithm: Edmonds–Karp algorithm.\n",
    "\n",
    "What Ford–Fulkerson does can be summarised as 3 steps:\n",
    "\n",
    "* Find an augmenting path in the graph\n",
    "* Construct the residual graph by augmenting the path based on the original graph and augmenting path.\n",
    "* Do this until no augmenting path can be found.\n",
    "\n",
    "Ford-Fulkerson is not well-defined because there could be multiple ways of doing step 0: by DFS, by A* search, by some RL model that takes 200 RTX A6000 to train, or by magic......\n",
    "\n",
    "\n",
    "If we use BFS to find the augmenting path, this algorithm is called Edmonds–Karp algorithm which is what we will implement today.\n",
    "\n",
    "> Fun fact: Edmonds–Karp algorithm was first introduced by Soviet mathematician Yefim Dinitz/Dinic, yet Dinic's Algorithm is the name of a more complex and efficient algorithm for Network Flow problems (out of scope for CS170)."
   ]
  },
  {
   "cell_type": "code",
   "execution_count": null,
   "id": "07c549e0",
   "metadata": {},
   "outputs": [],
   "source": [
    "nx.draw_networkx(rand_graph(10))"
   ]
  },
  {
   "cell_type": "markdown",
   "id": "78ec305e",
   "metadata": {},
   "source": [
    "### Augmenting Path\n",
    "First, you will implement the BFS portion of Edmonds–Karp algorithm.\n",
    "Given a graph and `s` and `t` vertices, find a augmenting path (a list of vertices from `s` to `t` **including** `s` and `t`) with BFS. If there's no path, return None.\n",
    "\n",
    "### Networkx tricks\n",
    "\n",
    "There are some `networkx` tricks you might want to use below to make your life way easier:\n",
    "\n",
    "To access flow from edge `(u, v)`, do `g.edges[u, v][\"flow\"]`; sub `flow` for `capacity` for capacity.\n",
    "\n",
    "To access outgoing edges from `c` like adjacency list, do `g.edges(c)`. Note the returned type is an iterable of vertex tuples, so you should do something like:\n",
    "\n",
    "```\n",
    "for u, v in g.edges(c):\n",
    "    e = g.edges[u, v]\n",
    "    print(e[\"flow\"])\n",
    "```\n",
    "    \n",
    "To update some edge $(u, v)$ to have flow of `f`, we can do either `g.add_edge(u, v, flow=f, capacity=c)` or `g.edges[u, v][\"flow\"] = f`, where `c` is the capacity of the edge - make sure you don't change edge capacities!\n",
    "\n",
    "For the purpose of this coding HW, instead of decreasing `g.edges[u, v][\"capacity\"]` and check if it's still greater than zero each time you find or augment a path, please increase `g.edges[u, v][\"flow\"]` and check if it's still greater than `g.edges[u, v][\"capacity\"]`.\n",
    "\n",
    "While `g.edges[u, v]` looks like adjacency matrix it is not - if `(u, v)` doesn't exist there would be `KeyError`.\n",
    "Later, when implementing `edmonds_karp()`, you can use `nx.algorithms.flow.build_residual_network` to prevent `KeyError`s. `nx.algorithms.flow.build_residual_network` takes in an input graph and a key variable (for this assignment, the key will always be \"capacity\"), and returns a graph with 0-capacity edges placed wherever there is no edge in the input graph. For more information, see the [documentation](https://networkx.org/documentation/stable/reference/algorithms/generated/networkx.algorithms.flow.build_residual_network.html)."
   ]
  },
  {
   "cell_type": "markdown",
   "id": "f639b531",
   "metadata": {},
   "source": [
    "### Q1) Find Augmenting Path"
   ]
  },
  {
   "cell_type": "markdown",
   "id": "475269d9",
   "metadata": {},
   "source": [
    "**Task**\n",
    "* Given a graph represented via a networkx graph, find the BFS augmenting path that has $>0$ flow available.\n",
    "* Return a list of length equal to the number of nodes where the $i$-th element in this list is the $i$-th node on the $s$-$t$ path. The first and last nodes should be $s$ and $t$ respectively.\n",
    "* If no such path is available return an empty list.\n",
    "\n",
    "We recommend you use a `deque` for your BFS queue. You can read more about `deque` [here](https://docs.python.org/3/library/collections.html#collections.deque).\n",
    "\n",
    "_Points:_ 3"
   ]
  },
  {
   "cell_type": "code",
   "execution_count": null,
   "id": "6ad7f7f4",
   "metadata": {
    "tags": []
   },
   "outputs": [],
   "source": [
    "def bfs_augmenting_path(g, s, t):\n",
    "    \"\"\"\n",
    "    args:\n",
    "        g:nx.DiGraph = directed network flow graph\n",
    "        s:int = source node s\n",
    "        t:int = sink node t\n",
    "    return:\n",
    "        List[int] representing the augmenting path that BFS finds. First \n",
    "            and last nodes should be s and t respectively. Return [] if \n",
    "            path doesn't exist. Ex: [s, a, b, t] if (s, a), (a, b), (b, t)\n",
    "            is the shortest length augmenting path.\n",
    "    \"\"\"\n",
    "    queue = deque([(s, [s])])\n",
    "    ..."
   ]
  },
  {
   "cell_type": "code",
   "execution_count": null,
   "id": "730bd710",
   "metadata": {
    "deletable": false,
    "editable": false
   },
   "outputs": [],
   "source": [
    "grader.check(\"q1\")"
   ]
  },
  {
   "cell_type": "markdown",
   "id": "2b9397c1",
   "metadata": {},
   "source": [
    "### Q2) Edmonds-Karp\n",
    "\n",
    "Now, implement Edmonds-Karp with the functions you made above:\n",
    "\n",
    "1. Find an augmenting path in the graph (with `bfs_augmenting_path`)\n",
    "2. Construct the residual graph by augmenting the path based on the original graph and augmenting path (with `augment` described below)\n",
    "3. Do this until no augmenting path can be found.\n",
    "\n",
    "Return the capacity and the final residual graph. The autograder will only check capacity, but having access to the graph may come in handy later. Do not modify G (you can do it by making a copy of G by invoking `g.copy()`)."
   ]
  },
  {
   "cell_type": "markdown",
   "id": "dee1247f",
   "metadata": {},
   "source": [
    "> *Hint:* You may find it helpful to fill in the helper function `augment`: given an  s-t path, determine the maximum amount of flow that can be pushed through this path (this is bottlenecked by the smallest capacity edge the augmenting path). Then, augment the path by increasing flow for u-v and do the opposite for v-u. Finally, return the capacity of the flow you augmented."
   ]
  },
  {
   "cell_type": "code",
   "execution_count": null,
   "id": "5349a403",
   "metadata": {
    "tags": []
   },
   "outputs": [],
   "source": [
    "def edmonds_karp(g, s, t):\n",
    "    \"\"\"\n",
    "    args:\n",
    "        g:nx.DiGraph = directed network flow graph\n",
    "        s:int = source node s\n",
    "        t:int = sink node t\n",
    "    return:\n",
    "        Tuple(int, nx.DiGraph) where the first value represents the max flow that\n",
    "            was successfully pushed, and the second value represents the graph\n",
    "            where the flow values along each edge represents the flow pushed through\n",
    "            that edge.\n",
    "    \"\"\"\n",
    "    graph = nx.algorithms.flow.build_residual_network(g.copy(), \"capacity\")\n",
    "    nx.set_edge_attributes(graph, 0, \"flow\")\n",
    "    flow = 0\n",
    "    \n",
    "    def augment(g, path):\n",
    "        ...\n",
    "    \n",
    "    # Use the augment function to compute the max flow\n",
    "    ...\n",
    "    return flow, graph"
   ]
  },
  {
   "cell_type": "code",
   "execution_count": null,
   "id": "614ee9e2",
   "metadata": {
    "deletable": false,
    "editable": false
   },
   "outputs": [],
   "source": [
    "grader.check(\"q2\")"
   ]
  },
  {
   "cell_type": "markdown",
   "id": "3360e2e4",
   "metadata": {},
   "source": [
    "### Q3) Min-Cut"
   ]
  },
  {
   "cell_type": "markdown",
   "id": "440807f0",
   "metadata": {},
   "source": [
    "Recall that the dual of the Max-Flow problem is the Min-Cut problem. In the Min-Cut problem, we are given a network, and we wish to find a vertex cut of this graph, $(S, T)$ where $S \\cup T = V,$ $S \\cap T = \\emptyset,$ $s \\in S, t \\in T$ such that the sum of the capacities of the edges spanning this cut (going from $S$ to $T$) is minimized. \n",
    "\n",
    "Here, we'll see how, given a solution to the max-flow problem on a graph, we can easily find the min cut. Implement `find_min_cut` to find the minimum S-T cut of this graph (which also yields the edges with saturated flow). Make sure to return all the vertices that belong to the $S$ partition of the cut."
   ]
  },
  {
   "cell_type": "code",
   "execution_count": null,
   "id": "a6b67e58",
   "metadata": {
    "tags": []
   },
   "outputs": [],
   "source": [
    "def find_min_cut(g, s, t):\n",
    "    \"\"\"\n",
    "    args:\n",
    "        g:nx.DiGraph = directed network flow graph\n",
    "        s:int = source node s\n",
    "        t:int = sink node t\n",
    "    return:\n",
    "        Set(int) that contains all vertices in the min cut of g that includes s.\n",
    "    \"\"\"\n",
    "    vertex_cut_s = set([s])\n",
    "    flow, graph = edmonds_karp(g, s, t)\n",
    "    ...\n",
    "    return vertex_cut_s"
   ]
  },
  {
   "cell_type": "code",
   "execution_count": null,
   "id": "c9314004",
   "metadata": {
    "deletable": false,
    "editable": false
   },
   "outputs": [],
   "source": [
    "grader.check(\"q3\")"
   ]
  },
  {
   "cell_type": "markdown",
   "id": "e304af44",
   "metadata": {
    "deletable": false,
    "editable": false
   },
   "source": [
    "## Submission\n",
    "\n",
    "Make sure you have run all cells in your notebook in order before running the cell below, so that all images/graphs appear in the output. The cell below will generate a zip file for you to submit."
   ]
  },
  {
   "cell_type": "code",
   "execution_count": null,
   "id": "d6709221",
   "metadata": {
    "deletable": false,
    "editable": false
   },
   "outputs": [],
   "source": [
    "grader.export(pdf=False, force_save=True, run_tests=True)"
   ]
  },
  {
   "cell_type": "markdown",
   "id": "d0dc7807",
   "metadata": {},
   "source": [
    " "
   ]
  }
 ],
 "metadata": {
  "kernelspec": {
   "display_name": "Python 3 (ipykernel)",
   "language": "python",
   "name": "python3"
  },
  "language_info": {
   "codemirror_mode": {
    "name": "ipython",
    "version": 3
   },
   "file_extension": ".py",
   "mimetype": "text/x-python",
   "name": "python",
   "nbconvert_exporter": "python",
   "pygments_lexer": "ipython3",
   "version": "3.9.12"
  },
  "otter": {
   "OK_FORMAT": false,
   "assignment_name": "edmonds_karp",
   "tests": {
    "q1": "from otter.test_files import test_case\n\nOK_FORMAT = False\n\nname = \"q1\"\npoints = 3\n\n@test_case(points=None, hidden=False)\ndef test_bfs_augmenting_path(bfs_augmenting_path, inputs, outputs, tqdm):\n    for i in tqdm.tqdm(range(0, len(inputs['q1'])), desc =\"Running Test 1\"):\n        g, s, t = inputs['q1'][i]\n        pathStudent = bfs_augmenting_path(g, s, t)\n        expectedOutput = outputs['q1'][i]\n        assert len(pathStudent) == len(expectedOutput), \"Check that you're using BFS to generate the correct path\"\n        for i in range(len(pathStudent) - 1):\n            try:\n                e = g.edges[pathStudent[i], pathStudent[i + 1]]\n            except KeyError as e:\n                raise AssertionError(\"no edge ({0}, {1})\".format(pathStudent[i], pathStudent[i + 1]))\n            assert e[\"flow\"] < e[\"capacity\"], \"edge ({0}, {1}) capacity issue\".format(pathStudent[i], pathStudent[i + 1])\n            \n",
    "q2": "from otter.test_files import test_case\n\nOK_FORMAT = False\n\nname = \"q2\"\npoints = 4\n\n@test_case(points=None, hidden=False)\ndef test_edmonds_karp(edmonds_karp, inputs, outputs, tqdm, nx):\n    for i in tqdm.tqdm(range(0, len(inputs['q2'])), desc =\"Running Test 2\"):\n        g, s, t = inputs['q2'][i]\n        nxmax_flow = nx.algorithms.flow.maximum_flow\n        nxmin_cut = nx.minimum_cut\n        def error(*args, **kwargs):\n            raise Exception(\"You may not call max_flow libraries, modules, or functions.\")\n        nx.algorithms.flow.maximum_flow = error\n        nx.minimum_cut = error\n        try:\n            flowStudent, graph = edmonds_karp(g, s, t)\n        finally:\n            nx.algorithms.flow.maximum_flow = nxmax_flow\n            nx.minimum_cut = nxmin_cut\n        expectedOutput = outputs['q2'][i]\n        expectedOutput = nx.algorithms.flow.maximum_flow(g, s, t)[0]\n        assert flowStudent == expectedOutput, f\"Make sure you are returning the max flow. Expected = {expectedOutput}, Received = {flowStudent}.\"\n        \n",
    "q3": "from otter.test_files import test_case\n\nOK_FORMAT = False\n\nname = \"q3\"\npoints = 3\n\n@test_case(points=None, hidden=False)\ndef test_edmonds_karp(edmonds_karp, find_min_cut, inputs, outputs, tqdm, nx): # , env\n    for i in tqdm.tqdm(range(0, len(inputs['q3'])), desc =\"Running Test 3\"):\n        g, s, t = inputs['q3'][i]\n        nxmax_flow = nx.algorithms.flow.maximum_flow\n        def error(*args, **kwargs):\n            raise Exception(\"You may not call max_flow libraries, modules, or functions.\")\n        nx.algorithms.flow.maximum_flow = error\n        try:\n            sCutStudent = find_min_cut(g, s, t)\n        finally:\n            nx.algorithms.flow.maximum_flow = nxmax_flow\n        tCutStudent = set([t])\n        for n in g:\n            if n not in sCutStudent:\n                tCutStudent.add(n)\n        flow = 0\n        for u, v in g.edges:\n            if u in sCutStudent and v in tCutStudent:\n                flow += g.edges[u, v][\"capacity\"]\n        expected_flow = nx.algorithms.flow.maximum_flow(g, s, t)[0]\n        assert flow == expected_flow, f\"Capacity across returned cut: {flow}, expected: {expected_flow}. Returned S-cut: {sCutStudent}, S, T = {s, t}.\"\n                \n"
   }
  }
 },
 "nbformat": 4,
 "nbformat_minor": 5
}

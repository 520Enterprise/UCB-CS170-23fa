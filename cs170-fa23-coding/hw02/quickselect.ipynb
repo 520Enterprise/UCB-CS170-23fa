{
 "cells": [
  {
   "attachments": {},
   "cell_type": "markdown",
   "metadata": {},
   "source": [
    "### Step 0: Setup\n",
    "##### If you're using Datahub:\n",
    "* Run the cell below **and restart the kernel if needed**\n",
    "\n",
    "##### If you're running locally:\n",
    "* Make sure you've activated the conda environment: `conda activate cs170`\n",
    "* Launch jupyter: `jupyter lab`\n",
    "* Run the cell below **and restart the kernel if needed**\n",
    "\n",
    "# Quickselect\n",
    "In this notebook, we will implement the quickselect algorithm. The quick select algorithm is an efficient divide and conquer algorithm for finding the $k$-th smallest element of an unsorted array. We will first demonstrate a naive solution for this problem, then implement and compare it with quick select.\n",
    "\n",
    "The full algorithm is detailed here https://people.eecs.berkeley.edu/~vazirani/algorithms/chap2.pdf#page=10."
   ]
  },
  {
   "cell_type": "code",
   "execution_count": null,
   "metadata": {},
   "outputs": [],
   "source": [
    "# Install dependencies\n",
    "!pip install -r requirements.txt --quiet"
   ]
  },
  {
   "cell_type": "code",
   "execution_count": null,
   "metadata": {},
   "outputs": [],
   "source": [
    "import otter\n",
    "\n",
    "assert (\n",
    "    otter.__version__ >= \"4.2.1\"\n",
    "), \"Please reinstall the requirements and restart your kernel.\"\n",
    "\n",
    "grader = otter.Notebook(\"quickselect.ipynb\")\n",
    "import numpy.random as random\n",
    "\n",
    "rng_seed = 0"
   ]
  },
  {
   "attachments": {},
   "cell_type": "markdown",
   "metadata": {},
   "source": [
    "## Naive Solution\n",
    "\n",
    "The naive solution to the problem is as follows: \n",
    "1. sort the input array \n",
    "2. return the $k$-th element"
   ]
  },
  {
   "cell_type": "code",
   "execution_count": null,
   "metadata": {},
   "outputs": [],
   "source": [
    "def naive_select(array, k):\n",
    "    sorted_array = sorted(array)\n",
    "    return sorted_array[k]"
   ]
  },
  {
   "attachments": {},
   "cell_type": "markdown",
   "metadata": {},
   "source": [
    "We can run this on a few test cases to check that it works."
   ]
  },
  {
   "cell_type": "code",
   "execution_count": null,
   "metadata": {},
   "outputs": [],
   "source": [
    "array1 = [6, 1, 3, 5, 7, 5, 8]\n",
    "array2 = [10, 4, 7, 2, 8, 9]\n",
    "array3 = [12, 4, 6, 8, 3, 4, 2]\n",
    "\n",
    "print(\"The smallest element of \", array1, \" is \", naive_select(array1, 0))\n",
    "print(\"The median element of \", array2, \" is \", naive_select(array2, len(array2) // 2))\n",
    "print(\"The largest element of \", array3, \" is \", naive_select(array3, len(array3) - 1))"
   ]
  },
  {
   "attachments": {},
   "cell_type": "markdown",
   "metadata": {},
   "source": [
    "### Runtime analysis\n",
    "\n",
    "This algorithm first sorts the array, which would take $O(n \\log n)$ assuming quicksort is used and indexing into the array takes $O(1)$. Thus, the algorithm takes $O(n \\log n)$ overall.\n",
    "\n",
    "This is not a very efficient solution; however, since it is unnecessary to sort the entire array to simply find one element. Thus, we will next explore quickselect."
   ]
  },
  {
   "attachments": {},
   "cell_type": "markdown",
   "metadata": {},
   "source": [
    "## Write a D&C Solution\n",
    "\n",
    "Quickselect is a randomized divide and conquer algorithm which is able to solve this problem in expected $O(n)$ time. See https://people.eecs.berkeley.edu/~vazirani/algorithms/chap2.pdf#page=11 for a detailed runtime analysis. The main idea of the algorithm is as follows:\n",
    "\n",
    "1. Randomly select a pivot element from the array\n",
    "2. Partion the array into three partitions (the elements less than, equal too, and greater than the pivot)\n",
    "3. Recurse on the partition which must contain the $k$-th smallest element\n",
    "With this in mind, please implement the quickselect algorithm by replacing the elipses \"...\" with your solution."
   ]
  },
  {
   "cell_type": "code",
   "execution_count": null,
   "metadata": {
    "tags": []
   },
   "outputs": [],
   "source": [
    "def quick_select(array, k):\n",
    "    \"\"\"\n",
    "    Returns the k-th smallest element of the array.\n",
    "\n",
    "    Args:\n",
    "        array (List[int]): List of integers to select from.\n",
    "        k (int): The order statistic to select (0 is the smallest, len(array)-1 is the largest).\n",
    "    \"\"\"\n",
    "\n",
    "    # randomly pick a pivot\n",
    "    v = random.choice(array)\n",
    "\n",
    "    partition1 = []\n",
    "    partition2 = []\n",
    "    partition3 = []\n",
    "    # assign each element to the appropriate partition\n",
    "    for x in array:\n",
    "        if x < v:\n",
    "            partition1.append(x)\n",
    "        elif x == v:\n",
    "            partition2.append(x)\n",
    "        else:\n",
    "            partition3.append(x)\n",
    "\n",
    "    # recurse on the partition which contains the k-th smallest element\n",
    "    if k < len(partition1):\n",
    "        return quick_select(partition1, k)\n",
    "    elif k < len(partition1) + len(partition2):\n",
    "        return v\n",
    "    else:\n",
    "        return quick_select(partition3, k - len(partition1) - len(partition2))"
   ]
  },
  {
   "attachments": {},
   "cell_type": "markdown",
   "metadata": {},
   "source": [
    "We can then test the function on the same set of arrays as before to check for correctness."
   ]
  },
  {
   "cell_type": "code",
   "execution_count": null,
   "metadata": {},
   "outputs": [],
   "source": [
    "array1 = [6, 1, 3, 5, 7, 5, 8]\n",
    "array2 = [10, 4, 7, 2, 8, 9]\n",
    "array3 = [12, 4, 6, 8, 3, 4, 2]\n",
    "\n",
    "print(\"The smallest element of \", array1, \" is \", quick_select(array1, 0))\n",
    "print(\"The median element of \", array2, \" is \", quick_select(array2, len(array2) // 2))\n",
    "print(\"The largest element of \", array3, \" is \", quick_select(array3, len(array3) - 1))"
   ]
  },
  {
   "attachments": {},
   "cell_type": "markdown",
   "metadata": {},
   "source": [
    "### Verification\n",
    "\n",
    "For a more thorough test, we can check that quick_select returns the same elements as naive_select for a large number of random arrays. Often times, naive algorithms are much simpler to implement and verify than more efficient algorithms. Thus, one way to verify the correctness of our implementation is to compare it to the naive implementation which we know to be correct.\n",
    "\n",
    "The following block of code generates a 1000 random arrays and 1000 random values for k, and checks that both solutions return the same answer each time. If your implementation is correct, the following code will print \"success\". \n",
    "\n",
    "**This cell is not used for grading, feel free to modify it to help you debug**"
   ]
  },
  {
   "cell_type": "code",
   "execution_count": null,
   "metadata": {},
   "outputs": [],
   "source": [
    "for i in range(1000):\n",
    "    array = random.randint(1000, size=1000)\n",
    "    k = random.randint(1000)\n",
    "\n",
    "    assert naive_select(array, k) == quick_select(array, k)\n",
    "\n",
    "print(\"success\")"
   ]
  },
  {
   "attachments": {},
   "cell_type": "markdown",
   "metadata": {},
   "source": [
    "Now, check your implementation against the autograder's test cases:\n",
    "\n",
    "_Points:_ 5"
   ]
  },
  {
   "cell_type": "code",
   "execution_count": null,
   "metadata": {
    "deletable": false,
    "editable": false
   },
   "outputs": [],
   "source": [
    "grader.check(\"q1\")"
   ]
  },
  {
   "cell_type": "markdown",
   "metadata": {
    "deletable": false,
    "editable": false
   },
   "source": [
    "## Submission\n",
    "\n",
    "Make sure you have run all cells in your notebook in order before running the cell below, so that all images/graphs appear in the output. The cell below will generate a zip file for you to submit."
   ]
  },
  {
   "cell_type": "code",
   "execution_count": null,
   "metadata": {
    "deletable": false,
    "editable": false
   },
   "outputs": [],
   "source": [
    "grader.export(pdf=False, force_save=True, run_tests=True)"
   ]
  },
  {
   "cell_type": "markdown",
   "metadata": {},
   "source": [
    " "
   ]
  }
 ],
 "metadata": {
  "kernelspec": {
   "display_name": "Python 3",
   "language": "python",
   "name": "python3"
  },
  "language_info": {
   "codemirror_mode": {
    "name": "ipython",
    "version": 3
   },
   "file_extension": ".py",
   "mimetype": "text/x-python",
   "name": "python",
   "nbconvert_exporter": "python",
   "pygments_lexer": "ipython3",
   "version": "3.8.17"
  },
  "otter": {
   "OK_FORMAT": false,
   "assignment_name": "quickselect",
   "tests": {
    "q1": "from otter.test_files import test_case\n\nOK_FORMAT = False\n\nname = \"q1\"\npoints = 5\n\n@test_case(points=None, hidden=False)\ndef test_correctness(quick_select, rng_seed):\n    import numpy.random as random\n    import tqdm\n\n    # make autograder results deterministic\n    random.seed(rng_seed)\n    rng = random.default_rng(rng_seed)\n\n    def naive_select(array, k):\n        sorted_array = sorted(array)\n        return sorted_array[k]\n\n    print(\"Testing correctness...\")\n    for i in tqdm.trange(1, 1000):\n        array = rng.integers(1000, size=i)\n        k = rng.integers(i)\n\n        assert naive_select(array, k) == quick_select(array, k)\n\n\n@test_case(points=None, hidden=False)\ndef test_no_builtins(quick_select):\n    uses_sort = (\"sorted\" in quick_select.__code__.co_names) or (\n        \"sort\" in quick_select.__code__.co_names\n    )\n    assert not uses_sort, \"You should not use sorting functions in your implementation.\"\n\n    uses_naive = \"naive_select\" in quick_select.__code__.co_names\n    assert not uses_naive, \"You should not use naive_select in your implementation.\"\n\n    uses_imports = \"quickselect\" in quick_select.__code__.co_names\n    assert (\n        not uses_imports\n    ), \"You should not use imports in your implementation. If you have a variable in your code named 'quickselect', please rename it :)\"\n\n\n@test_case(points=None, hidden=False)\ndef test_speed(quick_select, rng_seed):\n    import numpy.random as random\n    import tqdm\n    import time\n\n    # make autograder results deterministic\n    random.seed(rng_seed)\n    rng = random.default_rng(rng_seed)\n\n    def naive_select(array, k):\n        sorted_array = sorted(array)\n        return sorted_array[k]\n\n    n = 100\n    naive_time = 0\n    quickselect_time = 0\n    size = 200000\n    required_speedup = 0.3\n    print(\"Testing speed...\")\n    for i in tqdm.trange(n):\n        arr = rng.integers(100000, size=size + i)\n        k = rng.integers(1000 + i)\n\n        start = time.time()\n        naive_select(arr, k)\n        end = time.time()\n        naive_time += end - start\n\n        start = time.time()\n        quick_select(arr, k)\n        end = time.time()\n        quickselect_time += end - start\n\n    slow_algo_message = \"Double check your implementation is O(n) on average, it is performing slower than O(n log n) naive select.\"\n    assert quickselect_time * required_speedup < naive_time, slow_algo_message\n\n\n"
   }
  }
 },
 "nbformat": 4,
 "nbformat_minor": 2
}
